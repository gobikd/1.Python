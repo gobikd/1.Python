{
 "cells": [
  {
   "cell_type": "code",
   "execution_count": 3,
   "id": "699db085",
   "metadata": {},
   "outputs": [
    {
     "name": "stdout",
     "output_type": "stream",
     "text": [
      "Value: 10\n",
      "Correct\n"
     ]
    }
   ],
   "source": [
    "for i in range(0,11):\n",
    "    if i==10:\n",
    "        print(\"Value:\",i)\n",
    "        print(\"Correct\")"
   ]
  },
  {
   "cell_type": "code",
   "execution_count": 5,
   "id": "13b76775",
   "metadata": {},
   "outputs": [
    {
     "name": "stdout",
     "output_type": "stream",
     "text": [
      "Enter the password: HOPE@123\n",
      "Your password is correct\n"
     ]
    }
   ],
   "source": [
    "# Check the password, using if and else\n",
    "Ac_Password ='HOPE@123'\n",
    "Password=input(\"Enter the password: \")     #Password entered shown in input\n",
    "if Ac_Password==Password:\n",
    "    print(\"Your password is correct\")      #else should ignore"
   ]
  },
  {
   "cell_type": "code",
   "execution_count": 12,
   "id": "b7867feb",
   "metadata": {},
   "outputs": [
    {
     "name": "stdout",
     "output_type": "stream",
     "text": [
      "age:20\n",
      "Adult\n"
     ]
    }
   ],
   "source": [
    " # Catagory the people by their age like children, adult, citizen, senior citizen...\n",
    "age=int(input(\"age:\"))\n",
    "if(age<18):                 #Faced difficulties here due to spaceing, alignment\n",
    "    print(\"Child\")          #errors was shown in syntaxs which correct\n",
    "elif(age<35):\n",
    "    print(\"Adult\")\n",
    "elif(age<59):\n",
    "    print(\"Citizen\")\n",
    "else:\n",
    "    print(\"Senior Citizen\")"
   ]
  },
  {
   "cell_type": "code",
   "execution_count": 19,
   "id": "e7917fd0",
   "metadata": {},
   "outputs": [
    {
     "name": "stdout",
     "output_type": "stream",
     "text": [
      "Enter any number:1\n",
      "Num is positive\n"
     ]
    }
   ],
   "source": [
    " # Find whether given number is positive or negative \n",
    "Num=float(input(\"Enter any number:\"))\n",
    "if (Num>=0):\n",
    "    print(\"Num is positive\")"
   ]
  },
  {
   "cell_type": "code",
   "execution_count": 22,
   "id": "f43ab476",
   "metadata": {},
   "outputs": [
    {
     "name": "stdout",
     "output_type": "stream",
     "text": [
      "Enter a number to check:22\n",
      "Num is not divisible by 5\n"
     ]
    }
   ],
   "source": [
    "# Check whether the given number is divisible by 5\n",
    "Num2=int(input(\"Enter a number to check:\"))\n",
    "if Num2 %5 !=0:                             #Single statement if int input cause modulus 5 operation remained non 0 value\n",
    "    print(\"Num is not divisible by 5\")"
   ]
  },
  {
   "cell_type": "code",
   "execution_count": null,
   "id": "fdeeba12",
   "metadata": {},
   "outputs": [],
   "source": []
  }
 ],
 "metadata": {
  "kernelspec": {
   "display_name": "Python 3",
   "language": "python",
   "name": "python3"
  },
  "language_info": {
   "codemirror_mode": {
    "name": "ipython",
    "version": 3
   },
   "file_extension": ".py",
   "mimetype": "text/x-python",
   "name": "python",
   "nbconvert_exporter": "python",
   "pygments_lexer": "ipython3",
   "version": "3.8.8"
  }
 },
 "nbformat": 4,
 "nbformat_minor": 5
}
