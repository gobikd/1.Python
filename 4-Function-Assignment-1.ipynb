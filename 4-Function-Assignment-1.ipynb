{
 "cells": [
  {
   "cell_type": "code",
   "execution_count": null,
   "id": "02abc2ab",
   "metadata": {},
   "outputs": [],
   "source": [
    "# Create Function Subfield of AI-store\n",
    "def Subfields():\n",
    "    print(\"Subfields in AI are:\")\n",
    "    List=['Machine Learning', 'Neural Networks', 'Vision', 'Robotics', 'Speech Processing', 'Natural Language Processing']\n",
    "    for item in List:\n",
    "        print(item)                        # Tried ways for print statement in single line without 'for in'\n",
    "    return List"
   ]
  },
  {
   "cell_type": "code",
   "execution_count": null,
   "id": "0c68c807",
   "metadata": {},
   "outputs": [],
   "source": [
    "Subfields()"
   ]
  },
  {
   "cell_type": "code",
   "execution_count": null,
   "id": "0e8c3eca",
   "metadata": {},
   "outputs": [],
   "source": [
    "# Create Function Odd or Even"
   ]
  },
  {
   "cell_type": "code",
   "execution_count": null,
   "id": "4007cb83",
   "metadata": {},
   "outputs": [],
   "source": [
    "def OddEven():\n",
    "    Num=int(input('Enter a number: '))\n",
    "    if (Num %2 ==0):\n",
    "        print(Num, \"is even number\")\n",
    "    else:\n",
    "        print(Num, \"is odd number\")\n",
    "        return()"
   ]
  },
  {
   "cell_type": "code",
   "execution_count": null,
   "id": "1a4a6816",
   "metadata": {},
   "outputs": [],
   "source": [
    "OddEven()"
   ]
  },
  {
   "cell_type": "code",
   "execution_count": 4,
   "id": "55193617",
   "metadata": {},
   "outputs": [],
   "source": [
    "# Create Function. Eligiobility Criteria\n",
    "def Elegible():\n",
    "    Gender=str(input('Your Gender:'))\n",
    "    Age=int(input('Your age: '))\n",
    "    if (Age>18):\n",
    "        print(\"ELIGIBLE\")\n",
    "        Message='ELIGIBLE'\n",
    "    else:\n",
    "        print(\"NOT ELIGIBLE\")\n",
    "        Message='NOT ELIGIBLE'\n",
    "    return (Message)"
   ]
  },
  {
   "cell_type": "code",
   "execution_count": 5,
   "id": "aee9c49f",
   "metadata": {},
   "outputs": [
    {
     "name": "stdout",
     "output_type": "stream",
     "text": [
      "Your Gender:Male\n",
      "Your age: 18\n",
      "NOT ELIGIBLE\n"
     ]
    },
    {
     "data": {
      "text/plain": [
       "'NOT ELIGIBLE'"
      ]
     },
     "execution_count": 5,
     "metadata": {},
     "output_type": "execute_result"
    }
   ],
   "source": [
    "Elegible()"
   ]
  },
  {
   "cell_type": "code",
   "execution_count": 8,
   "id": "6e4f8e1d",
   "metadata": {},
   "outputs": [],
   "source": [
    "# Create Function\n",
    "def percentage():\n",
    "    ListofSubject=['Subject1','Subject2','Subject3','Subject4','Subject5']\n",
    "    ListofMark=[23,45,34,23,23]\n",
    "    Total=sum(ListofMark)\n",
    "    Percentage=(Total/500)*100\n",
    "    for ListofSubject,ListofMark in zip(ListofSubject,ListofMark): #tuple-> List1 associated to list 2 by zip fc\n",
    "        print(f\"{ListofSubject}={ListofMark}\")\n",
    "    print(\"Percentage:\", Percentage)\n",
    "    return(Percentage)"
   ]
  },
  {
   "cell_type": "code",
   "execution_count": 9,
   "id": "32c4fe36",
   "metadata": {},
   "outputs": [
    {
     "name": "stdout",
     "output_type": "stream",
     "text": [
      "Subject1=23\n",
      "Subject2=45\n",
      "Subject3=34\n",
      "Subject4=23\n",
      "Subject5=23\n",
      "Percentage: 29.599999999999998\n"
     ]
    },
    {
     "data": {
      "text/plain": [
       "29.599999999999998"
      ]
     },
     "execution_count": 9,
     "metadata": {},
     "output_type": "execute_result"
    }
   ],
   "source": [
    "percentage()"
   ]
  },
  {
   "cell_type": "code",
   "execution_count": 1,
   "id": "e1d1dd49",
   "metadata": {},
   "outputs": [],
   "source": [
    "# Create Function\n",
    "def triangle():\n",
    "    def Area():\n",
    "        Height=3\n",
    "        Breadth=4\n",
    "        Area=\"(Height*Breadth)/2\"\n",
    "        AreaCal=(Height*Breadth)/2\n",
    "        print(\"Height:\", Height)\n",
    "        print(\"Breadth:\", Breadth)\n",
    "        print(f\"Area formula: \",Area)\n",
    "        print(\"Area of Triangle: \", AreaCal)\n",
    "        return(AreaCal)\n",
    "    def Perimeter():\n",
    "        Height=3\n",
    "        Breadth=4\n",
    "        Area=\"(Height*Breadth)/2\"\n",
    "        AreaCal=(Height*Breadth)/2\n",
    "        Height1=3\n",
    "        Height2=4\n",
    "        Breadth=45\n",
    "        Perimeter=\"Height1+Height2+Breadth\"\n",
    "        PerimeterCal=Height1+Height2+Breadth\n",
    "        print(\"Height1:\",Height1)\n",
    "        print(\"Height2:\",Height2)\n",
    "        print(\"Breadth:\",Breadth)\n",
    "        print(f\"Perimeter formula: \",Perimeter)\n",
    "        print(\"Perieter of Triangle: \",PerimeterCal)\n",
    "        return (PerimeterCal)\n",
    "    return(Area(), Perimeter())"
   ]
  },
  {
   "cell_type": "code",
   "execution_count": 2,
   "id": "0d785db4",
   "metadata": {},
   "outputs": [
    {
     "name": "stdout",
     "output_type": "stream",
     "text": [
      "Height: 3\n",
      "Breadth: 4\n",
      "Area formula:  (Height*Breadth)/2\n",
      "Area of Triangle:  6.0\n",
      "Height1: 3\n",
      "Height2: 4\n",
      "Breadth: 45\n",
      "Perimeter formula:  Height1+Height2+Breadth\n",
      "Perieter of Triangle:  52\n"
     ]
    },
    {
     "data": {
      "text/plain": [
       "(6.0, 52)"
      ]
     },
     "execution_count": 2,
     "metadata": {},
     "output_type": "execute_result"
    }
   ],
   "source": [
    "triangle()\n"
   ]
  },
  {
   "cell_type": "code",
   "execution_count": null,
   "id": "2106f3ad",
   "metadata": {},
   "outputs": [],
   "source": []
  }
 ],
 "metadata": {
  "kernelspec": {
   "display_name": "Python 3",
   "language": "python",
   "name": "python3"
  },
  "language_info": {
   "codemirror_mode": {
    "name": "ipython",
    "version": 3
   },
   "file_extension": ".py",
   "mimetype": "text/x-python",
   "name": "python",
   "nbconvert_exporter": "python",
   "pygments_lexer": "ipython3",
   "version": "3.8.8"
  }
 },
 "nbformat": 4,
 "nbformat_minor": 5
}
