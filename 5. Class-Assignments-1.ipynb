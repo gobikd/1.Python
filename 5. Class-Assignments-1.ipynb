{
 "cells": [
  {
   "cell_type": "code",
   "execution_count": null,
   "id": "a44a70e3",
   "metadata": {},
   "outputs": [],
   "source": [
    "# Create a class and function, and list out the items in the list\n",
    "class SubfieldsInAI:\n",
    "    def Subfields():\n",
    "        print(\"Subfields in AI are:\")\n",
    "        List=['Machine Learning', 'Neural Networks', 'Vision', 'Robotics', 'Speech Processing', 'Natural Language Processing']\n",
    "        for item in List:\n",
    "            print(item)                        # Tried ways for print statement in single line without 'for in'\n",
    "        return List"
   ]
  },
  {
   "cell_type": "code",
   "execution_count": null,
   "id": "b8f0e4a6",
   "metadata": {},
   "outputs": [],
   "source": [
    "SubfieldsInAI.Subfields()"
   ]
  },
  {
   "cell_type": "code",
   "execution_count": 21,
   "id": "908175ff",
   "metadata": {},
   "outputs": [],
   "source": [
    "# Create a function that checks whether the given number is Odd or Even\n",
    "class OddEven:\n",
    "    def OddEven():\n",
    "        Num=int(input('Enter a number: '))\n",
    "        print(f\"{Num} is {'Even'if Num %2==0 else 'Odd'} number\")\n",
    "        return()"
   ]
  },
  {
   "cell_type": "code",
   "execution_count": 22,
   "id": "5ce2b9ff",
   "metadata": {},
   "outputs": [
    {
     "name": "stdout",
     "output_type": "stream",
     "text": [
      "Enter a number: 52452\n",
      "52452 is Even number\n"
     ]
    },
    {
     "data": {
      "text/plain": [
       "()"
      ]
     },
     "execution_count": 22,
     "metadata": {},
     "output_type": "execute_result"
    }
   ],
   "source": [
    "OddEven.OddEven()"
   ]
  },
  {
   "cell_type": "code",
   "execution_count": 11,
   "id": "bd093e79",
   "metadata": {},
   "outputs": [],
   "source": [
    "# Create a function that tells elegibility of marriage for male and female according to their age limit like 21 for male and 18 for female\n",
    "class ElegiblityForMarriage:\n",
    "    def Elegible():\n",
    "        Gender=str(input('Your Gender:'))\n",
    "        Age=int(input('Your Age:'))\n",
    "        if (Gender==\"Male\" and Age>=21):\n",
    "            print(\"ELIGIBLE\")\n",
    "            Eligibility=str(\"ELIGIBLE\")\n",
    "        elif (Gender==\"Female\" and Age<=18):\n",
    "            print(\"ELIGIBLE\")\n",
    "            Eligibility=str(\"ELIGIBLE\")\n",
    "        else:\n",
    "            print(\"Not ELIGIBLE\")\n",
    "            Eligibility=str(\"NOT ELIGIBLE\")\n",
    "        return (Eligibility)"
   ]
  },
  {
   "cell_type": "code",
   "execution_count": 12,
   "id": "662fbb2e",
   "metadata": {},
   "outputs": [
    {
     "name": "stdout",
     "output_type": "stream",
     "text": [
      "Your Gender:Male\n",
      "Your Age:20\n",
      "Not ELIGIBLE\n"
     ]
    },
    {
     "data": {
      "text/plain": [
       "'NOT ELIGIBLE'"
      ]
     },
     "execution_count": 12,
     "metadata": {},
     "output_type": "execute_result"
    }
   ],
   "source": [
    "ElegiblityForMarriage.Elegible()"
   ]
  },
  {
   "cell_type": "code",
   "execution_count": null,
   "id": "12fb25de",
   "metadata": {},
   "outputs": [],
   "source": [
    "# calculate the percentage of your 10th mark"
   ]
  },
  {
   "cell_type": "code",
   "execution_count": 19,
   "id": "541e5b61",
   "metadata": {},
   "outputs": [],
   "source": [
    "class FindPercent:\n",
    "    def percentage():\n",
    "        ListofSubject=['Subject1','Subject2','Subject3','Subject4','Subject5']\n",
    "        ListofMark=[98,87,95,95,93]                                            # All copied frm function assigment\n",
    "        Total=sum(ListofMark)                                                  #except to value in ListofMark\n",
    "        Percentage=(Total/500)*100\n",
    "        for ListofSubject,ListofMark in zip(ListofSubject,ListofMark):         #List line onward to learn-both list zip\n",
    "            print(f\"{ListofSubject}={ListofMark}\")                             #zip so item and value referd \n",
    "        print(\"Percentage:\", Percentage)\n",
    "        return (Percentage)"
   ]
  },
  {
   "cell_type": "code",
   "execution_count": 20,
   "id": "9383559c",
   "metadata": {},
   "outputs": [
    {
     "name": "stdout",
     "output_type": "stream",
     "text": [
      "Subject1=98\n",
      "Subject2=87\n",
      "Subject3=95\n",
      "Subject4=95\n",
      "Subject5=93\n",
      "Percentage: 93.60000000000001\n"
     ]
    },
    {
     "data": {
      "text/plain": [
       "93.60000000000001"
      ]
     },
     "execution_count": 20,
     "metadata": {},
     "output_type": "execute_result"
    }
   ],
   "source": [
    "FindPercent.percentage()"
   ]
  },
  {
   "cell_type": "code",
   "execution_count": null,
   "id": "8af31592",
   "metadata": {},
   "outputs": [],
   "source": [
    "#print area and perimeter of triangle using class and functions"
   ]
  },
  {
   "cell_type": "code",
   "execution_count": 3,
   "id": "5aee605b",
   "metadata": {},
   "outputs": [],
   "source": [
    "class triangle:\n",
    "    def triangle():\n",
    "        def Area():\n",
    "            Height=32\n",
    "            Breadth=34\n",
    "            Area=\"(Height*Breadth)/2\"\n",
    "            AreaCal=(Height*Breadth)/2\n",
    "            print(\"Height:\", Height)\n",
    "            print(\"Breadth:\", Breadth)\n",
    "            print(f\"Area formula: \",Area)\n",
    "            print(\"Area of Triangle: \", AreaCal)\n",
    "            return(AreaCal)\n",
    "        def Perimeter():\n",
    "            Height=3\n",
    "            Breadth=4\n",
    "            Area=\"(Height*Breadth)/2\"\n",
    "            AreaCal=(Height*Breadth)/2\n",
    "            Height1=2\n",
    "            Height2=4\n",
    "            Breadth=4\n",
    "            Perimeter=\"Height1+Height2+Breadth\"\n",
    "            PerimeterCal=Height1+Height2+Breadth\n",
    "            print(\"Height1:\",Height1)\n",
    "            print(\"Height2:\",Height2)\n",
    "            print(\"Breadth:\",Breadth)\n",
    "            print(f\"Perimeter formula: \",Perimeter)\n",
    "            print(\"Perieter of Triangle: \",PerimeterCal)\n",
    "            return (PerimeterCal)\n",
    "        return(Area(), Perimeter())\n",
    "    "
   ]
  },
  {
   "cell_type": "code",
   "execution_count": 5,
   "id": "be6a0f42",
   "metadata": {
    "scrolled": true
   },
   "outputs": [
    {
     "name": "stdout",
     "output_type": "stream",
     "text": [
      "Height: 32\n",
      "Breadth: 34\n",
      "Area formula:  (Height*Breadth)/2\n",
      "Area of Triangle:  544.0\n",
      "Height1: 2\n",
      "Height2: 4\n",
      "Breadth: 4\n",
      "Perimeter formula:  Height1+Height2+Breadth\n",
      "Perieter of Triangle:  10\n"
     ]
    },
    {
     "data": {
      "text/plain": [
       "(544.0, 10)"
      ]
     },
     "execution_count": 5,
     "metadata": {},
     "output_type": "execute_result"
    }
   ],
   "source": [
    "triangle.triangle()"
   ]
  },
  {
   "cell_type": "code",
   "execution_count": null,
   "id": "5bcbe04a",
   "metadata": {},
   "outputs": [],
   "source": []
  }
 ],
 "metadata": {
  "kernelspec": {
   "display_name": "Python 3",
   "language": "python",
   "name": "python3"
  },
  "language_info": {
   "codemirror_mode": {
    "name": "ipython",
    "version": 3
   },
   "file_extension": ".py",
   "mimetype": "text/x-python",
   "name": "python",
   "nbconvert_exporter": "python",
   "pygments_lexer": "ipython3",
   "version": "3.8.8"
  }
 },
 "nbformat": 4,
 "nbformat_minor": 5
}
